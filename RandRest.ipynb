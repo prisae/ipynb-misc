{
 "cells": [
  {
   "cell_type": "markdown",
   "metadata": {
    "collapsed": true
   },
   "source": [
    "# Random sequence with restrictions"
   ]
  },
  {
   "cell_type": "code",
   "execution_count": 1,
   "metadata": {
    "collapsed": false
   },
   "outputs": [],
   "source": [
    "import numpy as np\n",
    "def randrest(pool, n, repeat=False, balance=False, maxit=100000):\n",
    "    \"\"\"Random sequence with restrictions.\n",
    "    \n",
    "    => Sequence of <n> samples is randomly drawn from <pool>\n",
    "    => Sequence can be restricted to subsequently repeat numbers only <repeat> times\n",
    "    => Sequence can be balanced that the occurence of each value only deviates by <balance> from the average\n",
    "    \n",
    "    Input\n",
    "    =====\n",
    "    - pool: list of floats, e.g. [1, 2, 3] or [-4, np.pi, 1000]\n",
    "    - n: integer, e.g. 50\n",
    "    - repeat: False or integer, e.g. 2\n",
    "    - balance: False or float, e.g. 1.5\n",
    "    - maxit: integer, e.g. 10000\n",
    "    \n",
    "    Returns\n",
    "    =======\n",
    "    - samples: desired sequence\n",
    "    - values: pool\n",
    "    - counts: count of each element of pool in the sequence\n",
    "       \n",
    "    Example\n",
    "    =======\n",
    "    samples, values, counts = randrest([1,2,3], 40, 2, 2)\n",
    "    \n",
    "    \"\"\"\n",
    "    # Note regarding the drawing: n+1 elements are drawn, in order to avoid indexing issues\n",
    "    # in the repeat-check. However, the last element is never used nor returned, it is just\n",
    "    # a dummy.\n",
    "    \n",
    "    # If no restrictions are required then just return the choice\n",
    "    if not repeat and not balance:\n",
    "        samples = np.random.choice(pool, n+1)  # See note on top regarding n+1\n",
    "\n",
    "    else:\n",
    "        # Initialize check and stop\n",
    "        check = True\n",
    "        stop = 1\n",
    "\n",
    "        # Repeat while any of the restrictions is not met until maxit\n",
    "        while check:\n",
    "            # Draw choice\n",
    "            samples = np.random.choice(pool, n+1)  # See note on top regarding n+1\n",
    "\n",
    "            # If repeat, compare neighbouring items repeat-times\n",
    "            if repeat:\n",
    "                repcheck = True\n",
    "                for i in np.arange(1, repeat+1):\n",
    "                    repcheck *= samples[i-1:-repeat+i-2] == samples[i:-repeat+i-1]\n",
    "            else:\n",
    "                repcheck = False\n",
    "\n",
    "            # If balance, check counts\n",
    "            if balance:\n",
    "                values, counts = np.unique(samples[:-1], return_counts=True)\n",
    "                balcheck = np.any(counts < n/np.size(pool)-balance) or np.any(counts > n/np.size(pool)+balance)\n",
    "            else:\n",
    "                balcheck = False\n",
    "\n",
    "            # Stop criterias\n",
    "            check = np.any(repcheck) or balcheck\n",
    "            if check and stop == maxit:\n",
    "                raise StopIteration(\"Maximum iteration [\"+str(maxit)+\"] reached. Loose restrictions or increase <maxit>.\")\n",
    "            stop += 1\n",
    "\n",
    "    # Return samples, values, and counts\n",
    "    values, counts = np.unique(samples[:-1], return_counts=True)\n",
    "    return samples[:-1], values, counts"
   ]
  },
  {
   "cell_type": "markdown",
   "metadata": {},
   "source": [
    "## Ohne Einschränkung, wie häufig die gleiche Zahl nacheinander auftreten darf"
   ]
  },
  {
   "cell_type": "code",
   "execution_count": 2,
   "metadata": {
    "collapsed": false,
    "scrolled": false
   },
   "outputs": [
    {
     "name": "stdout",
     "output_type": "stream",
     "text": [
      "Durchgang: 1\n",
      "Total: 40; 1: 14; 2: 13; 3: 13\n",
      "[1 1 2 1 1 2 2 3 3 2 2 3 2 1 1 1 3 2 1 1 3 1 3 3 2 1 2 2 2 3 1 3 2 2 3 3 1\n",
      " 1 3 3]\n",
      "=======\n",
      "Durchgang: 2\n",
      "Total: 40; 1: 14; 2: 13; 3: 13\n",
      "[3 2 1 2 2 2 3 3 1 1 1 1 3 1 2 2 3 1 3 3 2 1 1 2 2 1 1 1 1 3 3 1 2 3 3 3 2\n",
      " 2 3 2]\n",
      "=======\n",
      "Durchgang: 3\n",
      "Total: 40; 1: 13; 2: 13; 3: 14\n",
      "[2 2 2 1 1 2 3 2 3 1 2 1 1 2 1 1 1 3 3 3 1 2 2 3 2 3 2 3 1 3 2 3 3 1 3 1 2\n",
      " 3 3 1]\n",
      "=======\n",
      "Durchgang: 4\n",
      "Total: 40; 1: 13; 2: 14; 3: 13\n",
      "[1 3 1 1 3 1 1 2 1 3 2 1 3 1 2 3 2 1 1 2 3 2 1 2 2 3 2 3 2 1 2 2 2 3 2 3 3\n",
      " 3 1 3]\n",
      "=======\n",
      "Durchgang: 5\n",
      "Total: 40; 1: 13; 2: 14; 3: 13\n",
      "[1 2 3 1 3 2 1 1 3 1 1 2 2 3 3 2 3 2 1 3 1 2 2 2 3 2 3 2 3 3 1 2 1 1 1 2 3\n",
      " 2 1 3]\n",
      "=======\n",
      "Durchgang: 6\n",
      "Total: 40; 1: 14; 2: 13; 3: 13\n",
      "[1 1 2 3 2 3 2 3 1 3 2 1 2 1 1 3 2 1 3 3 1 3 3 2 3 1 1 1 2 1 2 3 3 2 3 1 2\n",
      " 1 2 2]\n",
      "=======\n",
      "Durchgang: 7\n",
      "Total: 40; 1: 13; 2: 13; 3: 14\n",
      "[2 1 2 3 3 2 2 1 2 3 3 1 1 3 3 1 3 3 2 2 1 3 3 2 2 2 1 1 1 1 2 2 1 3 2 3 1\n",
      " 3 1 3]\n",
      "=======\n",
      "Durchgang: 8\n",
      "Total: 40; 1: 14; 2: 13; 3: 13\n",
      "[2 2 1 2 1 1 3 2 3 3 3 1 2 2 1 3 3 1 2 2 1 1 1 3 3 3 3 3 1 2 2 1 1 3 3 2 2\n",
      " 1 2 1]\n",
      "=======\n",
      "Durchgang: 9\n",
      "Total: 40; 1: 13; 2: 13; 3: 14\n",
      "[2 3 3 3 2 2 2 3 2 3 1 1 2 3 1 3 1 2 2 2 1 1 3 1 2 3 1 1 1 3 1 3 2 1 3 3 3\n",
      " 2 2 1]\n",
      "=======\n",
      "Durchgang: 10\n",
      "Total: 40; 1: 13; 2: 13; 3: 14\n",
      "[2 3 1 1 1 2 1 3 2 1 2 1 3 1 2 2 3 3 3 2 2 3 3 1 2 1 3 2 2 2 1 3 2 3 1 1 3\n",
      " 3 3 1]\n",
      "=======\n"
     ]
    }
   ],
   "source": [
    "for i in range(10):\n",
    "    samples, values, counts = randrest([1,2,3], 40, False, 1)\n",
    "    print('Durchgang: '+str(i+1))\n",
    "    print('Total: '+str(np.size(samples))+'; '+str(values[0])+': '+str(counts[0])+\n",
    "          '; '+str(values[1])+': '+str(counts[1])+'; '+str(values[2])+': '+str(counts[2]))\n",
    "    print(samples)\n",
    "    print('=======')"
   ]
  },
  {
   "cell_type": "markdown",
   "metadata": {},
   "source": [
    "## Einschränkung: Höchstens 2x die gleiche Zahl nacheinander"
   ]
  },
  {
   "cell_type": "code",
   "execution_count": 3,
   "metadata": {
    "collapsed": false,
    "scrolled": false
   },
   "outputs": [
    {
     "name": "stdout",
     "output_type": "stream",
     "text": [
      "Durchgang: 1\n",
      "Total: 40; 1: 13; 2: 13; 3: 14\n",
      "[2 2 3 3 2 1 3 1 2 1 2 3 2 2 1 3 1 3 1 2 3 3 2 1 3 1 3 1 3 1 3 1 3 2 3 2 1\n",
      " 2 1 2]\n",
      "=======\n",
      "Durchgang: 2\n",
      "Total: 40; 1: 14; 2: 13; 3: 13\n",
      "[1 2 1 2 3 2 3 2 3 2 2 3 2 1 3 1 2 1 2 1 3 3 1 1 2 3 3 1 1 2 2 3 1 3 1 3 1\n",
      " 1 3 2]\n",
      "=======\n",
      "Durchgang: 3\n",
      "Total: 40; 1: 14; 2: 13; 3: 13\n",
      "[3 1 2 2 1 2 1 3 1 3 3 1 3 3 1 1 2 3 2 3 2 1 3 2 3 2 3 1 2 3 1 2 2 1 1 2 3\n",
      " 1 2 1]\n",
      "=======\n",
      "Durchgang: 4\n",
      "Total: 40; 1: 14; 2: 13; 3: 13\n",
      "[3 3 2 2 1 2 1 2 2 1 1 3 2 3 1 1 2 2 3 1 2 3 1 1 2 3 3 1 3 3 2 2 1 1 3 1 3\n",
      " 1 3 2]\n",
      "=======\n",
      "Durchgang: 5\n",
      "Total: 40; 1: 13; 2: 13; 3: 14\n",
      "[3 2 2 3 2 3 3 1 3 3 1 3 2 1 1 2 3 2 1 1 2 1 2 1 3 2 1 3 2 3 3 1 2 3 1 2 3\n",
      " 1 1 2]\n",
      "=======\n",
      "Durchgang: 6\n",
      "Total: 40; 1: 14; 2: 13; 3: 13\n",
      "[1 1 2 3 3 1 2 3 1 2 2 3 2 1 2 3 2 3 1 3 3 2 1 1 2 3 3 1 2 1 1 2 3 3 2 1 3\n",
      " 1 1 2]\n",
      "=======\n",
      "Durchgang: 7\n",
      "Total: 40; 1: 14; 2: 13; 3: 13\n",
      "[3 1 3 3 2 3 2 2 1 3 1 1 2 2 1 2 3 2 1 1 3 1 2 2 1 1 3 2 3 2 3 1 2 1 2 3 1\n",
      " 1 3 3]\n",
      "=======\n",
      "Durchgang: 8\n",
      "Total: 40; 1: 14; 2: 13; 3: 13\n",
      "[1 2 1 1 3 2 2 3 1 2 2 1 3 2 1 3 2 3 1 2 3 2 1 3 2 1 1 3 2 2 3 1 3 1 3 1 3\n",
      " 1 2 3]\n",
      "=======\n",
      "Durchgang: 9\n",
      "Total: 40; 1: 14; 2: 13; 3: 13\n",
      "[1 3 3 1 2 1 2 1 3 2 3 1 1 3 1 3 3 1 3 2 3 3 2 3 2 2 3 2 1 2 1 3 2 1 2 1 1\n",
      " 2 2 1]\n",
      "=======\n",
      "Durchgang: 10\n",
      "Total: 40; 1: 13; 2: 14; 3: 13\n",
      "[3 2 3 2 1 1 2 1 2 3 3 1 2 3 3 1 2 1 2 2 3 1 2 3 1 2 1 1 2 3 2 3 2 3 1 2 3\n",
      " 1 3 1]\n",
      "=======\n"
     ]
    }
   ],
   "source": [
    "for i in range(10):\n",
    "    samples, values, counts = randrest([1,2,3], 40, 2, 1)\n",
    "    print('Durchgang: '+str(i+1))\n",
    "    print('Total: '+str(np.size(samples))+'; '+str(values[0])+': '+str(counts[0])+\n",
    "          '; '+str(values[1])+': '+str(counts[1])+'; '+str(values[2])+': '+str(counts[2]))\n",
    "    print(samples)\n",
    "    print('=======')"
   ]
  }
 ],
 "metadata": {
  "kernelspec": {
   "display_name": "Python 3",
   "language": "python",
   "name": "python3"
  },
  "language_info": {
   "codemirror_mode": {
    "name": "ipython",
    "version": 3
   },
   "file_extension": ".py",
   "mimetype": "text/x-python",
   "name": "python",
   "nbconvert_exporter": "python",
   "pygments_lexer": "ipython3",
   "version": "3.5.1"
  }
 },
 "nbformat": 4,
 "nbformat_minor": 0
}
